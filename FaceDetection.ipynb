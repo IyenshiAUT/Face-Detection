{
 "cells": [
  {
   "cell_type": "code",
   "execution_count": 1,
   "id": "36fc1ba1-358a-4478-9b3d-d0ad2d765824",
   "metadata": {},
   "outputs": [],
   "source": [
    "# import the library\n",
    "import cv2"
   ]
  },
  {
   "cell_type": "code",
   "execution_count": 2,
   "id": "35f0c9a8-f7eb-4e5e-9323-dd99fe49d9cb",
   "metadata": {},
   "outputs": [],
   "source": [
    "# Load the Haar Cascade XML file\n",
    "cascade_path = 'D:/OpenCV/haarcascade_frontalface_default.xml'\n",
    "face_cascade = cv2.CascadeClassifier(cascade_path)\n",
    "\n",
    "# Check if the Haar Cascade XML is loaded properly\n",
    "if face_cascade.empty():\n",
    "    print(\"Error loading Haar Cascade XML file\")\n",
    "    exit()"
   ]
  },
  {
   "cell_type": "code",
   "execution_count": 3,
   "id": "f7aedc45-9614-4a2c-be5f-fab2bdb37cc5",
   "metadata": {},
   "outputs": [],
   "source": [
    "# Load the image\n",
    "img_1 = cv2.imread('D:/OpenCV/4.jfif')\n",
    "\n",
    "# Check if the image is loaded properly\n",
    "if img_1 is None:\n",
    "    print(\"Error loading image\")\n",
    "    exit()"
   ]
  },
  {
   "cell_type": "code",
   "execution_count": 4,
   "id": "324345af-e26d-42dd-8c3e-e108b6ef64b4",
   "metadata": {},
   "outputs": [],
   "source": [
    "# Convert the image to gray scale\n",
    "gray_img_1 = cv2.cvtColor(img_1, cv2.COLOR_BGR2GRAY)\n",
    "\n",
    "# Perform face detection\n",
    "face_1 = face_cascade.detectMultiScale(gray_img_1, scaleFactor=1.1, minNeighbors=4)"
   ]
  },
  {
   "cell_type": "code",
   "execution_count": 5,
   "id": "016bf503-3094-4822-b939-6b546ed83339",
   "metadata": {},
   "outputs": [],
   "source": [
    "# Check if any faces were detected\n",
    "if len(face_1) == 0:\n",
    "    print(\"No faces detected\")\n",
    "    exit()"
   ]
  },
  {
   "cell_type": "code",
   "execution_count": 6,
   "id": "ee1e751b-c635-4829-8ad1-1c1a3bdcba92",
   "metadata": {},
   "outputs": [],
   "source": [
    "# Draw rectangles around detected faces\n",
    "for (x, y, w, h) in face_1:\n",
    "    cv2.rectangle(img_1, (x, y), (x + w, y + h), (255, 0, 0), 2)"
   ]
  },
  {
   "cell_type": "code",
   "execution_count": 7,
   "id": "31869703-d5a3-4812-b467-698544af49da",
   "metadata": {},
   "outputs": [
    {
     "data": {
      "text/plain": [
       "True"
      ]
     },
     "execution_count": 7,
     "metadata": {},
     "output_type": "execute_result"
    }
   ],
   "source": [
    "# Export the image with the detected faces\n",
    "cv2.imwrite('detected.jpeg', img_1)"
   ]
  },
  {
   "cell_type": "code",
   "execution_count": null,
   "id": "11694024-34dd-4237-b0b5-ddacbec12f07",
   "metadata": {},
   "outputs": [],
   "source": []
  }
 ],
 "metadata": {
  "kernelspec": {
   "display_name": "Python 3 (ipykernel)",
   "language": "python",
   "name": "python3"
  },
  "language_info": {
   "codemirror_mode": {
    "name": "ipython",
    "version": 3
   },
   "file_extension": ".py",
   "mimetype": "text/x-python",
   "name": "python",
   "nbconvert_exporter": "python",
   "pygments_lexer": "ipython3",
   "version": "3.12.4"
  }
 },
 "nbformat": 4,
 "nbformat_minor": 5
}
